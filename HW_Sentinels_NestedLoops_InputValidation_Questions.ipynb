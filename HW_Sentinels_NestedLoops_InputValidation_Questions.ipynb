{
  "cells": [
    {
      "cell_type": "markdown",
      "id": "90ac47ab",
      "metadata": {
        "id": "90ac47ab"
      },
      "source": [
        "# HW: Sentinels, Nested Loops, and Input Validation (≈70 minutes)\n",
        "\n",
        "**Instructions**\n",
        "- Work in order. Each task has a time estimate to help you pace yourself.\n",
        "- Do **not** use external libraries. Keep to standard Python.\n",
        "- Wherever you see `# TODO`, fill in the code.\n",
        "- Run the test cells (where provided) to sanity-check your work.\n",
        "- If something is unclear, add a short comment explaining your reasoning.\n",
        "\n",
        "**Learning goals**\n",
        "- Use **sentinel-controlled while loops** to gather input until the user indicates “stop.”\n",
        "- Use **try/except** and loops to **validate inputs** and **reprompt**.\n",
        "- Use **nested loops** to build tables or to loop over characters in strings."
      ]
    },
    {
      "cell_type": "markdown",
      "id": "e1f28e9a",
      "metadata": {
        "id": "e1f28e9a"
      },
      "source": [
        "---\n",
        "## ⏱️ Estimated total time: ~70 minutes\n",
        "\n",
        "- **Task 1** – Sentinel stats (15 min)  \n",
        "- **Task 2** – Choice validator (8 min)  \n",
        "- **Task 3** – Multiplication grid (12 min)  \n",
        "- **Task 4** – Vowel counter across words (15 min)  \n",
        "- **Task 5** – Mini-gradebook (20 min)"
      ]
    },
    {
      "cell_type": "markdown",
      "id": "983a92fb",
      "metadata": {
        "id": "983a92fb"
      },
      "source": [
        "---\n",
        "## Task 1 — Sentinel stats (≈15 min)\n",
        "\n",
        "Write a program that repeatedly asks the user for **integers between 0 and 100**.  \n",
        "Use a **sentinel**: the user types `done` (any case) to finish.\n",
        "\n",
        "**Requirements**\n",
        "- Ignore blank inputs (reprompt).\n",
        "- If the user types something that's not an integer in range, print a friendly message and reprompt.\n",
        "- When the user finishes, print: **count**, **sum**, **min**, **max**, and **mean** (to 2 decimals) using f-string: `{num:.2f}`.\n",
        "- If no valid numbers were entered, print `\"No data.\"`"
      ]
    },
    {
      "cell_type": "code",
      "execution_count": null,
      "id": "bd66cac2",
      "metadata": {
        "id": "bd66cac2"
      },
      "outputs": [],
      "source": [
        "def sentinel():\n",
        "    minimum = None\n",
        "    maximum = None\n",
        "    count = 0\n",
        "    total = 0\n",
        "    average = 0\n",
        "    while True:\n",
        "        user_input = input(\"Please enter a number between 0 and 100 or done: \").strip().lower()\n",
        "        if user_input == \"done\":\n",
        "            break\n",
        "        try:\n",
        "            user = int(user_input)\n",
        "        except ValueError:\n",
        "            print(\"Please enter a valid integer.\")\n",
        "            continue\n",
        "        if user >= 100 or user <= 0:\n",
        "            print(\"Please enter a number between 0 and 100.\")\n",
        "            continue\n",
        "        else:\n",
        "            count += 1\n",
        "            total += user\n",
        "            if maximum is None or user > maximum:\n",
        "                maximum = user\n",
        "            if minimum is None or user < minimum:\n",
        "                minimum = user\n",
        "    if count == 0:\n",
        "        print(\"No data.\")\n",
        "    else:\n",
        "        print(f\"count:{count}, sum:{total}, min:{minimum}, max:{maximum}, mean{total / count:.2f}.\")\n",
        "sentinel()\n"
      ]
    },
    {
      "cell_type": "markdown",
      "id": "03a0f72b",
      "metadata": {
        "id": "03a0f72b"
      },
      "source": [
        "---\n",
        "## Task 2 — Choice validator (≈8 min)\n",
        "\n",
        "Write a function `get_choice(prompt, options)` that:\n",
        "- Prints the prompt and the list of options.\n",
        "- Repeatedly asks for input until the user types **exactly** one of the options (case-insensitive).\n",
        "- Returns the **originally cased** option from the `options` list.\n",
        "\n",
        "**Example**\n",
        "```text\n",
        "Your choice (red/blue/green): Blue\n",
        "# returns \"blue\" if options = [\"red\", \"blue\", \"green\"]\n",
        "```\n",
        "\n",
        "> Hint: Build `options_lower` once, then search it each time to find the index."
      ]
    },
    {
      "cell_type": "code",
      "execution_count": null,
      "id": "ac138b14",
      "metadata": {
        "id": "ac138b14"
      },
      "outputs": [],
      "source": [
        "def get_choice():\n",
        "    options = [\"Orange\", \"Apple\", \"Banana\"]\n",
        "    options_lower = [a.lower() for a in options]\n",
        "    while True:\n",
        "        user_input = input(\"Your choice (orange/apple/banana): \").strip().lower()\n",
        "        if user_input not in options_lower:\n",
        "            print(f\"Please enter an option in {options_lower}. \")\n",
        "            continue\n",
        "        if user_input in options_lower:\n",
        "            return user_input\n",
        "            break\n",
        "get_choice()"
      ]
    },
    {
      "cell_type": "code",
      "execution_count": null,
      "id": "c11c898d",
      "metadata": {
        "id": "c11c898d"
      },
      "outputs": [],
      "source": [
        "# (Quick check) Manually try:\n",
        "# color = get_choice(\"Pick a color\", [\"red\",\"blue\",\"green\"])\n",
        "# print(\"You picked:\", color)"
      ]
    },
    {
      "cell_type": "markdown",
      "id": "003c976f",
      "metadata": {
        "id": "003c976f"
      },
      "source": [
        "---\n",
        "## Task 3 — Multiplication grid (≈12 min)\n",
        "\n",
        "Prompt the user for two **integers** `rows` and `cols` in the range **1..10**.  \n",
        "Validate both with try/except and reprompt until valid.\n",
        "\n",
        "Then print a **rows × cols** multiplication table, where each cell shows `r*c` (1-indexed).  \n",
        "Format with spaces so columns line up **at least** for small sizes.\n",
        "\n",
        "**Example (rows=3, cols=4)**\n",
        "```\n",
        "    1  2  3  4\n",
        " 1: 1  2  3  4\n",
        " 2: 2  4  6  8\n",
        " 3: 3  6  9 12\n",
        "```"
      ]
    },
    {
      "cell_type": "code",
      "execution_count": 27,
      "id": "db519675",
      "metadata": {
        "colab": {
          "base_uri": "https://localhost:8080/"
        },
        "id": "db519675",
        "outputId": "1075e938-3ecc-4632-a537-6e0b38f0f14d"
      },
      "outputs": [
        {
          "output_type": "stream",
          "name": "stdout",
          "text": [
            "Please enter amount of columns (1-10): 3\n",
            "Please enter amount of rows (1-10): 3\n",
            "    1  2  3  \n",
            "1:  1  2  3  \n",
            "2:  2  4  6  \n",
            "3:  3  6  9  \n"
          ]
        }
      ],
      "source": [
        "def multiplication():\n",
        "    while True:\n",
        "        try:\n",
        "            cols = int(input(\"Please enter amount of columns (1-10): \"))\n",
        "            rows = int(input(\"Please enter amount of rows (1-10): \"))\n",
        "        except ValueError:\n",
        "            print(\"Please enter a valid integer.\")\n",
        "            continue\n",
        "        if cols < 1 or cols > 10:\n",
        "            print(\"Please enter an integer between 1 and 10.\")\n",
        "            continue\n",
        "        if rows < 1 or rows > 10:\n",
        "            print(\"Please enter an integer between 1 and 10.\")\n",
        "            continue\n",
        "        else:\n",
        "            break\n",
        "    print(\"   \", end=\" \")\n",
        "    for c in range(1, cols + 1):\n",
        "        print(c, end=\"  \")\n",
        "    print()\n",
        "    for r in range(1, rows + 1):\n",
        "        print(f\"{r}:\", end=\"  \")\n",
        "        for c in range(1, cols + 1):\n",
        "            print(f\"{r * c}\", end=\"  \")\n",
        "        print()\n",
        "multiplication()"
      ]
    },
    {
      "cell_type": "code",
      "source": [
        "# Optional:\n",
        "def multiplication():\n",
        "    while True:\n",
        "        try:\n",
        "            cols = int(input(\"Please enter amount of columns (1-10): \"))\n",
        "            rows = int(input(\"Please enter amount of rows (1-10): \"))\n",
        "        except ValueError:\n",
        "            print(\"Please enter a valid integer.\")\n",
        "            continue\n",
        "        if cols < 1 or cols > 10:\n",
        "            print(\"Please enter an integer between 1 and 10.\")\n",
        "            continue\n",
        "        if rows < 1 or rows > 10:\n",
        "            print(\"Please enter an integer between 1 and 10.\")\n",
        "            continue\n",
        "        else:\n",
        "            break\n",
        "    max_width = len(str(cols * rows))\n",
        "    # Need to properly space the top left corner according to max_width of grid\n",
        "    print(f\"{\" \":>{max_width}} \", end=\"  \")\n",
        "    for c in range(1, cols + 1):\n",
        "        print(f\"{c:>{max_width}}\", end=\"  \")\n",
        "    print()\n",
        "    for r in range(1, rows + 1):\n",
        "        print(f\"{r:>{max_width}}:\", end=\"  \")\n",
        "        for c in range(1, cols + 1):\n",
        "            print(f\"{r * c:>{max_width}}\", end=\"  \")\n",
        "        print()\n",
        "multiplication()"
      ],
      "metadata": {
        "id": "MLlIz9RpQ2C4",
        "outputId": "81877592-60fe-4672-d9f7-e7851dba8945",
        "colab": {
          "base_uri": "https://localhost:8080/"
        }
      },
      "id": "MLlIz9RpQ2C4",
      "execution_count": 60,
      "outputs": [
        {
          "output_type": "stream",
          "name": "stdout",
          "text": [
            "Please enter amount of columns (1-10): 7\n",
            "Please enter amount of rows (1-10): 7\n",
            "      1   2   3   4   5   6   7  \n",
            " 1:   1   2   3   4   5   6   7  \n",
            " 2:   2   4   6   8  10  12  14  \n",
            " 3:   3   6   9  12  15  18  21  \n",
            " 4:   4   8  12  16  20  24  28  \n",
            " 5:   5  10  15  20  25  30  35  \n",
            " 6:   6  12  18  24  30  36  42  \n",
            " 7:   7  14  21  28  35  42  49  \n"
          ]
        }
      ]
    },
    {
      "cell_type": "markdown",
      "id": "416bab28",
      "metadata": {
        "id": "416bab28"
      },
      "source": [
        "---\n",
        "## Task 4 — Vowel counter across words (≈15 min)\n",
        "\n",
        "Use a **sentinel** loop to read words until the user types `done`.  \n",
        "For each word, use a **nested loop** (loop over characters) to count **vowels** `a e i o u` (case-insensitive).\n",
        "\n",
        "**Output**\n",
        "- After each word, print `\"{word}\" has {k} vowel(s)`.\n",
        "- At the end, print the **total number of vowels** across all words.\n",
        "\n",
        "> Hint: A string is looped over the way a list is.  Use `for ch in word:` and compare `ch.lower()` against a set like `{'a','e','i','o','u'}`."
      ]
    },
    {
      "cell_type": "code",
      "execution_count": 75,
      "id": "c7a96d30",
      "metadata": {
        "colab": {
          "base_uri": "https://localhost:8080/"
        },
        "id": "c7a96d30",
        "outputId": "3fc06b6d-d136-47c7-c203-d33e63b719f8"
      },
      "outputs": [
        {
          "output_type": "stream",
          "name": "stdout",
          "text": [
            "Please enter a word or done: Hello\n",
            "hello has 2 vowel(s).\n",
            "Please enter a word or done: Ella\n",
            "ella has 2 vowel(s).\n",
            "Please enter a word or done: Marcus\n",
            "marcus has 2 vowel(s).\n",
            "Please enter a word or done: how\n",
            "how has 1 vowel(s).\n",
            "Please enter a word or done: are\n",
            "are has 2 vowel(s).\n",
            "Please enter a word or done: you\n",
            "you has 2 vowel(s).\n",
            "Please enter a word or done: DONE\n",
            "You have 11 vowel(s) in all your words.\n"
          ]
        }
      ],
      "source": [
        "def vowel_counter():\n",
        "    full_count = 0\n",
        "    while True:\n",
        "        vowels = \"aeiou\"\n",
        "        count = 0\n",
        "        user_input = input(\"Please enter a word or done: \").strip().lower()\n",
        "        if user_input == \"done\":\n",
        "            break\n",
        "        for char in user_input:\n",
        "            if char in vowels:\n",
        "                count += 1\n",
        "                full_count += 1\n",
        "        print(f\"{user_input} has {count} vowel(s).\")\n",
        "    print(f\"You have {full_count} vowel(s) in all your words.\")\n",
        "vowel_counter()"
      ]
    },
    {
      "cell_type": "markdown",
      "id": "98dd5563",
      "metadata": {
        "id": "98dd5563"
      },
      "source": [
        "---\n",
        "## Task 5 — Mini-gradebook (≈20 min)\n",
        "\n",
        "Build a tiny gradebook using **both** a sentinel loop and a nested loop.\n",
        "\n",
        "**Requirements**\n",
        "1. Repeatedly ask for a **student name** until the user types `done` (sentinel).  \n",
        "   - Ignore blank names.\n",
        "2. For each student, read exactly **3 scores** (0..100, integers).  \n",
        "   - Use input validation with try/except; reprompt on bad input.\n",
        "3. Store each student's average in a dictionary `grades[name] = avg`.  **OR** use two parallel lists instead.\n",
        "4. After input ends, print a simple report sorted by name, e.g.:\n",
        "   ```\n",
        "   Alice : 88.00\n",
        "   Bob   : 92.33\n",
        "   ```\n",
        "\n",
        "Note: because dictionaries were not yet discussed, you are welcome to use **two different lists** instead.  \n",
        "One list stores the names and the other stores the averages.  For example:\n",
        "`list_1[0] == 'Alice'`, `list_1[1] == 'Bob'` and `list_2[0] == 88.00`, `list_2[1] == 92.33`.\n",
        "To store data:\n",
        "`list_1.append('Alice')` and `list_2.append(88.00)`.\n",
        "\n",
        "**Stretch (optional)**  \n",
        "- Also print the **class average**."
      ]
    },
    {
      "cell_type": "code",
      "execution_count": 95,
      "id": "b4c87c4c",
      "metadata": {
        "colab": {
          "base_uri": "https://localhost:8080/"
        },
        "id": "b4c87c4c",
        "outputId": "48dcec4e-489a-4595-a3f4-6c83b721bbc2"
      },
      "outputs": [
        {
          "output_type": "stream",
          "name": "stdout",
          "text": [
            "Please enter a name or done: sarah\n",
            "Please enter the first grade: 78\n",
            "Please enter the second grade: 74\n",
            "Please enter the third grade: 80\n",
            "Please enter a name or done: rivka\n",
            "Please enter the first grade: 90\n",
            "Please enter the second grade: 93\n",
            "Please enter the third grade: 86\n",
            "Please enter a name or done: rochel\n",
            "Please enter the first grade: 99\n",
            "Please enter the second grade: 100\n",
            "Please enter the third grade: 96\n",
            "Please enter a name or done: leah\n",
            "Please enter the first grade: 80\n",
            "Please enter the second grade: 86\n",
            "Please enter the third grade: 95\n",
            "Please enter a name or done: DONE\n",
            "leah: 77.33\n",
            "rivka: 89.67\n",
            "rochel: 98.33\n",
            "sarah: 87.00\n",
            "The class average is 88.08.\n"
          ]
        }
      ],
      "source": [
        "def gradebook():\n",
        "    names = []\n",
        "    grades = []\n",
        "    class_average_sum = 0\n",
        "    while True:\n",
        "        name = input(\"Please enter a name or done: \").strip().lower()\n",
        "        if name == \"done\":\n",
        "            break\n",
        "        if name == \"\":\n",
        "            continue\n",
        "        try:\n",
        "            grade1 = int(input(\"Please enter the first grade: \"))\n",
        "            grade2 = int(input(\"Please enter the second grade: \"))\n",
        "            grade3 = int(input(\"Please enter the third grade: \"))\n",
        "        except ValueError:\n",
        "            print(\"Please enter a valid integer.\")\n",
        "            continue\n",
        "        if (1 > grade1 or grade1 > 100 or\n",
        "            1 > grade2 or grade2 > 100 or\n",
        "            1 > grade3 or grade3 > 100):\n",
        "            print(f\"Please enter a grade between 0 and 100.\")\n",
        "            continue\n",
        "        average = (grade1 + grade2 + grade3) / 3\n",
        "        class_average_sum += average\n",
        "        names.append(name)\n",
        "        grades.append(average)\n",
        "    class_average = class_average_sum / len(names)\n",
        "    new_names = sorted(names)\n",
        "    for i in range(len(new_names)):\n",
        "        print(f\"{(new_names[i])}: {grades[i]:.2f}\")\n",
        "    print(f\"The class average is {class_average:.2f}.\")\n",
        "gradebook()"
      ]
    },
    {
      "cell_type": "code",
      "source": [
        "gradebook()"
      ],
      "metadata": {
        "id": "k1W_VIfbr-S4",
        "outputId": "c8072ad3-088f-4592-a9e8-844dfd52618e",
        "colab": {
          "base_uri": "https://localhost:8080/"
        }
      },
      "id": "k1W_VIfbr-S4",
      "execution_count": 100,
      "outputs": [
        {
          "output_type": "stream",
          "name": "stdout",
          "text": [
            "Please enter a name or done: tehilla\n",
            "Please enter the first grade: 98\n",
            "Please enter the second grade: 96\n",
            "Please enter the third grade: 9777\n",
            "Please enter a grade between 0 and 100.\n",
            "Please enter a name or done: \n",
            "Please enter a name or done: tehilla\n",
            "Please enter the first grade: 98\n",
            "Please enter the second grade: 96\n",
            "Please enter the third grade: 97\n",
            "Please enter a name or done: done\n",
            "tehilla: 97.00\n",
            "The class average is 97.00.\n"
          ]
        }
      ]
    },
    {
      "cell_type": "markdown",
      "id": "0d1a8cf7",
      "metadata": {
        "id": "0d1a8cf7"
      },
      "source": [
        "---\n",
        "### ✅ Submission checklist\n",
        "\n",
        "- [ ] Notebook runs top-to-bottom without errors\n",
        "- [ ] Brief comments added where logic might be unclear\n",
        "- [ ] Push this notebook to GitHub and submit link to Canvas"
      ]
    }
  ],
  "metadata": {
    "colab": {
      "provenance": []
    },
    "language_info": {
      "name": "python"
    },
    "kernelspec": {
      "name": "python3",
      "display_name": "Python 3"
    }
  },
  "nbformat": 4,
  "nbformat_minor": 5
}